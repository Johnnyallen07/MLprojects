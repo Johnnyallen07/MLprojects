{
 "cells": [
  {
   "cell_type": "markdown",
   "source": [
    "## Implement by neural network (nn)"
   ],
   "metadata": {
    "collapsed": false
   }
  },
  {
   "cell_type": "code",
   "execution_count": 52,
   "outputs": [],
   "source": [
    "import torch\n",
    "import torch.nn as nn\n",
    "import torch.optim as optim\n",
    "from sklearn.model_selection import train_test_split\n",
    "import pandas as pd\n",
    "import numpy as np"
   ],
   "metadata": {
    "collapsed": false
   }
  },
  {
   "cell_type": "code",
   "execution_count": 53,
   "outputs": [
    {
     "name": "stdout",
     "output_type": "stream",
     "text": [
      "<class 'torch.Tensor'>\n",
      "13\n"
     ]
    }
   ],
   "source": [
    "df_processed = pd.read_csv('data/train_processed.csv')\n",
    "X = df_processed.drop('Transported', axis=1).values\n",
    "y = df_processed['Transported'].values\n",
    "X_train, X_test, y_train, y_test = train_test_split(X, y, test_size=0.2)\n",
    "X_train = torch.tensor(X_train, dtype=torch.float32)\n",
    "y_train = torch.tensor(y_train, dtype=torch.float32)\n",
    "X_test = torch.tensor(X_test, dtype=torch.float32)\n",
    "print(type(X_train))\n",
    "print(X_train.shape[1])"
   ],
   "metadata": {
    "collapsed": false
   }
  },
  {
   "cell_type": "code",
   "execution_count": 54,
   "outputs": [],
   "source": [
    "class BinaryClassifier(nn.Module):\n",
    "    def __init__(self, input_size):\n",
    "        super(BinaryClassifier, self).__init__()\n",
    "        self.layer1 = nn.Linear(input_size, 8)\n",
    "        self.layer2 = nn.Linear(8, 4)\n",
    "        self.layer3 = nn.Linear(4, 1)\n",
    "        self.sigmoid = nn.Sigmoid()\n",
    "\n",
    "    def forward(self, features):\n",
    "        x = torch.relu(self.layer1(features))\n",
    "        x = torch.relu(self.layer2(x))\n",
    "        x = self.layer3(x)\n",
    "        x = self.sigmoid(x)\n",
    "        return x"
   ],
   "metadata": {
    "collapsed": false
   }
  },
  {
   "cell_type": "markdown",
   "source": [
    "## Loss Function"
   ],
   "metadata": {
    "collapsed": false
   }
  },
  {
   "cell_type": "code",
   "execution_count": 55,
   "outputs": [],
   "source": [
    "criterion = nn.BCELoss()\n",
    "learning_rate = 0.001\n",
    "model = BinaryClassifier(X.shape[1])\n",
    "optimizer = optim.Adam(model.parameters(), lr=learning_rate)"
   ],
   "metadata": {
    "collapsed": false
   }
  },
  {
   "cell_type": "markdown",
   "source": [
    "## Train the model"
   ],
   "metadata": {
    "collapsed": false
   }
  },
  {
   "cell_type": "markdown",
   "source": [],
   "metadata": {
    "collapsed": false
   }
  },
  {
   "cell_type": "code",
   "execution_count": 56,
   "outputs": [
    {
     "name": "stdout",
     "output_type": "stream",
     "text": [
      "Epoch [100/2000], Loss: 0.5765\n",
      "Epoch [200/2000], Loss: 0.5292\n",
      "Epoch [300/2000], Loss: 0.5146\n",
      "Epoch [400/2000], Loss: 0.5080\n",
      "Epoch [500/2000], Loss: 0.4919\n",
      "Epoch [600/2000], Loss: 0.4859\n",
      "Epoch [700/2000], Loss: 0.4831\n",
      "Epoch [800/2000], Loss: 0.4813\n",
      "Epoch [900/2000], Loss: 0.4792\n",
      "Epoch [1000/2000], Loss: 0.4770\n",
      "Epoch [1100/2000], Loss: 0.4744\n",
      "Epoch [1200/2000], Loss: 0.4706\n",
      "Epoch [1300/2000], Loss: 0.4658\n",
      "Epoch [1400/2000], Loss: 0.4607\n",
      "Epoch [1500/2000], Loss: 0.4550\n",
      "Epoch [1600/2000], Loss: 0.4512\n",
      "Epoch [1700/2000], Loss: 0.4474\n",
      "Epoch [1800/2000], Loss: 0.4450\n",
      "Epoch [1900/2000], Loss: 0.4432\n",
      "Epoch [2000/2000], Loss: 0.4419\n"
     ]
    }
   ],
   "source": [
    "num_epochs = 2000\n",
    "for epoch in range(num_epochs):\n",
    "    outputs = model(X_train)\n",
    "    loss = criterion(outputs, y_train.unsqueeze(1))\n",
    "    optimizer.zero_grad()\n",
    "    loss.backward()\n",
    "    optimizer.step()\n",
    "    if (epoch+1) % 100 == 0:\n",
    "        print(f'Epoch [{epoch+1}/{num_epochs}], Loss: {loss.item():.4f}')\n"
   ],
   "metadata": {
    "collapsed": false
   }
  },
  {
   "cell_type": "code",
   "execution_count": 57,
   "outputs": [
    {
     "name": "stdout",
     "output_type": "stream",
     "text": [
      "[False False  True False  True]\n",
      "[False False  True  True  True]\n",
      "1387\n",
      "Accuracy:  0.7975848188614146\n"
     ]
    }
   ],
   "source": [
    "with torch.no_grad():\n",
    "    predict = model(X_test)\n",
    "\n",
    "predict_vals = predict >= 0.5\n",
    "predict_vals = predict_vals.squeeze().numpy().T\n",
    "print(y_test[:5])\n",
    "print(predict_vals[:5])\n",
    "print(np.sum(predict_vals == y_test))\n",
    "acc = np.sum(predict_vals == y_test) / len(y_test)\n",
    "print(\"Accuracy: \", acc)"
   ],
   "metadata": {
    "collapsed": false
   }
  }
 ],
 "metadata": {
  "kernelspec": {
   "display_name": "Python 3",
   "language": "python",
   "name": "python3"
  },
  "language_info": {
   "codemirror_mode": {
    "name": "ipython",
    "version": 2
   },
   "file_extension": ".py",
   "mimetype": "text/x-python",
   "name": "python",
   "nbconvert_exporter": "python",
   "pygments_lexer": "ipython2",
   "version": "2.7.6"
  }
 },
 "nbformat": 4,
 "nbformat_minor": 0
}
